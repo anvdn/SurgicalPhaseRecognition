{
 "cells": [
  {
   "cell_type": "markdown",
   "metadata": {},
   "source": [
    "# Video labeling"
   ]
  },
  {
   "cell_type": "markdown",
   "metadata": {},
   "source": [
    "The purpose of this notebook is to generate a dataframe where each row is a frame of a given video with its corresponding ground truth label."
   ]
  },
  {
   "cell_type": "code",
   "execution_count": 2,
   "metadata": {},
   "outputs": [],
   "source": [
    "import matplotlib.pyplot as plt\n",
    "import numpy as np\n",
    "import os\n",
    "import pandas as pd\n",
    "import re\n",
    "import utils"
   ]
  },
  {
   "cell_type": "code",
   "execution_count": 3,
   "metadata": {},
   "outputs": [],
   "source": [
    "# create dictionary of all phases\n",
    "phase_dict = {\n",
    "    'adhesiolysis' : 0,\n",
    "    'blurry' : 1,\n",
    "    'catheter insertion' : 2,\n",
    "    'mesh placement' : 3,\n",
    "    'mesh positioning' : 4,\n",
    "    'out of body' : 5,\n",
    "    'peritoneal closure' : 6,\n",
    "    'peritoneal scoring' : 7,\n",
    "    'positioning suture' : 8,\n",
    "    'preperioneal dissection' : 9,\n",
    "    'primary hernia repair' : 10,\n",
    "    'reduction of hernia' : 11,\n",
    "    'stationary idle' : 12,\n",
    "    'transitionary idle' : 13,\n",
    "    }"
   ]
  },
  {
   "cell_type": "code",
   "execution_count": 4,
   "metadata": {},
   "outputs": [],
   "source": [
    "# read csv with dummy data annotation\n",
    "dummy_annotation_df = pd.read_csv(utils.csv_path)\n",
    "\n",
    "# create dataframe with labels for every frame of all videos\n",
    "labels_df = pd.DataFrame(columns = ['videoname', 'frame', 'label'])"
   ]
  },
  {
   "cell_type": "code",
   "execution_count": 5,
   "metadata": {},
   "outputs": [],
   "source": [
    "videonames, frames, labels = [], [], []\n",
    "\n",
    "for index in range(dummy_annotation_df.shape[0]):\n",
    "\n",
    "    # obtain row values\n",
    "    videoname = dummy_annotation_df['videoName'][index]\n",
    "    phasename = dummy_annotation_df['PhaseName'][index]\n",
    "    start = dummy_annotation_df['Start'][index]\n",
    "    end = dummy_annotation_df['End'][index]\n",
    "\n",
    "    if ':' in start and ':' in end: # verifies if it is indeed a time coded line\n",
    "\n",
    "        # get corresponding label\n",
    "        label = phase_dict[phasename]\n",
    "        frame_start = int(start[-5:-3]) * 60 + int(start[-2:])\n",
    "        frame_end = int(end[-5:-3]) * 60 + int(end[-2:])\n",
    "        # treat cases where the video is more than one hour long\n",
    "        if len(start) > 5: frame_start += int(start[0:2]) * 3600\n",
    "        if len(end) > 5: frame_end += int(end[0:2]) * 3600\n",
    "        for frame in range(frame_start, frame_end):\n",
    "            videonames.append(videoname)\n",
    "            frames.append(frame)\n",
    "            labels.append(label)\n",
    "\n",
    "# generate labels dataframe\n",
    "# we put frames + 1\n",
    "labels_df = pd.DataFrame({'videoname' : videonames, 'frame' : frames, 'label' : labels})"
   ]
  },
  {
   "cell_type": "code",
   "execution_count": 6,
   "metadata": {},
   "outputs": [
    {
     "data": {
      "image/png": "[encoded data removed]",
      "text/plain": [
       "<Figure size 432x288 with 1 Axes>"
      ]
     },
     "metadata": {
      "needs_background": "light"
     },
     "output_type": "display_data"
    }
   ],
   "source": [
    "# plot histogram of labels\n",
    "labels, counts = np.unique(labels_df['label'], return_counts=True)\n",
    "plt.bar(labels, counts, align='center')\n",
    "plt.gca().set_xticks(labels)\n",
    "plt.title(\"frequency of labels\")\n",
    "plt.xlabel(\"label\")\n",
    "plt.ylabel(\"frequency\")\n",
    "plt.show()"
   ]
  },
  {
   "cell_type": "code",
   "execution_count": 7,
   "metadata": {},
   "outputs": [
    {
     "data": {
      "text/plain": [
       "Text(0.5, 1.0, 'Phases')"
      ]
     },
     "execution_count": 7,
     "metadata": {},
     "output_type": "execute_result"
    },
    {
     "data": {
      "image/png": "[encoded data removed]",
      "text/plain": [
       "<Figure size 432x288 with 1 Axes>"
      ]
     },
     "metadata": {
      "needs_background": "light"
     },
     "output_type": "display_data"
    }
   ],
   "source": [
    "# plot phases\n",
    "plt.scatter(x = labels_df['frame'], y = labels_df['videoname'], c = labels_df['label'], label = labels_df['label'], marker = '|')\n",
    "plt.yticks('')\n",
    "plt.xlabel('time (seconds)')\n",
    "plt.title('Phases')"
   ]
  },
  {
   "cell_type": "code",
   "execution_count": 8,
   "metadata": {},
   "outputs": [],
   "source": [
    "# save labels\n",
    "labels_df.to_pickle(utils.labels_path)"
   ]
  }
 ],
 "metadata": {
  "interpreter": {
   "hash": "31f2aee4e71d21fbe5cf8b01ff0e069b9275f58929596ceb00d14d90e3e16cd6"
  },
  "kernelspec": {
   "display_name": "Python 3.8.10 64-bit",
   "language": "python",
   "name": "python3"
  },
  "language_info": {
   "codemirror_mode": {
    "name": "ipython",
    "version": 3
   },
   "file_extension": ".py",
   "mimetype": "text/x-python",
   "name": "python",
   "nbconvert_exporter": "python",
   "pygments_lexer": "ipython3",
   "version": "3.7.12"
  },
  "orig_nbformat": 4
 },
 "nbformat": 4,
 "nbformat_minor": 2
}
