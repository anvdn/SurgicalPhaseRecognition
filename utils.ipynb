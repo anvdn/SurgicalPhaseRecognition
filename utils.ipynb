{
 "cells": [
  {
   "cell_type": "code",
   "execution_count": 1,
   "metadata": {},
   "outputs": [],
   "source": [
    "import cv2\n",
    "import matplotlib.pyplot as plt\n",
    "import numpy as np\n",
    "import os\n",
    "import pandas as pd\n",
    "import torch\n",
    "import torchvision.transforms as T"
   ]
  },
  {
   "cell_type": "code",
   "execution_count": 2,
   "metadata": {},
   "outputs": [],
   "source": [
    "# memorize all paths\n",
    "videos_path = os.path.join(os.getcwd(), 'surgery.videos.hernitia') \n",
    "csv_path = os.path.join(os.getcwd(), 'video.phase.trainingData.clean.StudentVersion.csv')\n",
    "labels_path = os.path.join(os.getcwd(), 'labels/labels.pkl')\n",
    "\n",
    "# setting device\n",
    "device = torch.device('cuda' if torch.cuda.is_available() else 'cpu')"
   ]
  },
  {
   "cell_type": "code",
   "execution_count": 3,
   "metadata": {},
   "outputs": [],
   "source": [
    "def transforms(resize = (60, 80)):\n",
    "    \"\"\"\n",
    "    Description\n",
    "    -------------\n",
    "    Preprocess image screen before feeding it to a neural network.\n",
    "    \n",
    "    Parameters\n",
    "    -------------\n",
    "    resize : tuple, shape of the resized frame (default=(60,80))\n",
    "    \n",
    "    Returns\n",
    "    -------------\n",
    "    torchvision.transforms.transforms.Compose object, the composed transformations.\n",
    "    \"\"\"\n",
    "    return T.Compose([T.ToPILImage(),\n",
    "                T.Resize(resize),\n",
    "                T.ToTensor()])"
   ]
  },
  {
   "cell_type": "code",
   "execution_count": 4,
   "metadata": {},
   "outputs": [],
   "source": [
    "def get_frames(filename, resize = (60,80)):\n",
    "    \"\"\"\n",
    "    Description\n",
    "    -------------\n",
    "    Resize and stack frames of a video\n",
    "\n",
    "    Parameters\n",
    "    -------------\n",
    "    filename    : name of the video file (.mp4)\n",
    "    resize      : tuple, shape of the resized frame (default=(60,80))\n",
    "\n",
    "    Returns\n",
    "    -------------\n",
    "    tensor of dimension (#frames,channels,width,height)\n",
    "    \"\"\"\n",
    "    frames = []\n",
    "    video = cv2.VideoCapture(videos_path + '/' + filename + '.mp4')\n",
    "    # checks whether frames were extracted\n",
    "    success, image = video.read()\n",
    "    while success:\n",
    "        # brg -> rgb\n",
    "        image = cv2.cvtColor(image, cv2.COLOR_BGR2RGB)\n",
    "        # send tensor image to device\n",
    "        image = transforms(resize)(image)\n",
    "        # save the frame to the list of frames\n",
    "        frames.append(image)\n",
    "        # function extract frames\n",
    "        success, image = video.read()\n",
    "    video.release()\n",
    "    # stack frames\n",
    "    frames = torch.stack(frames, dim=0).to(device)\n",
    "    return frames"
   ]
  },
  {
   "cell_type": "code",
   "execution_count": 5,
   "metadata": {},
   "outputs": [],
   "source": [
    "def count_frames(filename):\n",
    "    \"\"\"\n",
    "    Description\n",
    "    -------------\n",
    "    Count number of frames in video\n",
    "\n",
    "    Parameters\n",
    "    -------------\n",
    "    filename    : name of the video file (.mp4 or .mov)\n",
    "\n",
    "    Returns\n",
    "    -------------\n",
    "    #frames in the video\n",
    "    \"\"\"\n",
    "    video = cv2.VideoCapture(filename)\n",
    "    totalframecount= int(video.get(cv2.CAP_PROP_FRAME_COUNT))\n",
    "    return totalframecount"
   ]
  },
  {
   "cell_type": "code",
   "execution_count": 6,
   "metadata": {},
   "outputs": [],
   "source": [
    "def get_labels(filename):\n",
    "    \"\"\"\n",
    "    Description\n",
    "    -------------\n",
    "    Produces tensor of labels for each frame of a video\n",
    "\n",
    "    Parameters\n",
    "    -------------\n",
    "    filename    : name of the video file (.mp4 or .mov)\n",
    "\n",
    "    Returns\n",
    "    -------------\n",
    "    tensor of dimension (#frames)\n",
    "    \"\"\"\n",
    "    if not os.path.exists(labels_path): return 'no labels stored'\n",
    "    # recover all labels\n",
    "    all_labels = pd.read_pickle(labels_path)\n",
    "    # recover labels of the video\n",
    "    labels = torch.tensor([all_labels.loc[all_labels['videoName'] == filename]['label']])\n",
    "    return labels"
   ]
  }
 ],
 "metadata": {
  "interpreter": {
   "hash": "424b5a56c3866c84a446a38c0ad0893fea94e3ebe8c623ca61581d8abec1ee15"
  },
  "kernelspec": {
   "display_name": "Python 3.9.7 ('base')",
   "language": "python",
   "name": "python3"
  },
  "language_info": {
   "codemirror_mode": {
    "name": "ipython",
    "version": 3
   },
   "file_extension": ".py",
   "mimetype": "text/x-python",
   "name": "python",
   "nbconvert_exporter": "python",
   "pygments_lexer": "ipython3",
   "version": "3.7.12"
  },
  "orig_nbformat": 4
 },
 "nbformat": 4,
 "nbformat_minor": 2
}
