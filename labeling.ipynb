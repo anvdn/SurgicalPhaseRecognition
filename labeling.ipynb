{
 "cells": [
  {
   "cell_type": "markdown",
   "metadata": {},
   "source": [
    "# Video labeling"
   ]
  },
  {
   "cell_type": "markdown",
   "metadata": {},
   "source": [
    "The purpose of this notebook is to generate a dataframe where each row is a frame of a given video with its corresponding ground truth label."
   ]
  },
  {
   "cell_type": "code",
   "execution_count": 1,
   "metadata": {},
   "outputs": [],
   "source": [
    "import os\n",
    "import pandas as pd\n",
    "import numpy as np\n",
    "import re\n",
    "import matplotlib.pyplot as plt"
   ]
  },
  {
   "cell_type": "code",
   "execution_count": 2,
   "metadata": {},
   "outputs": [],
   "source": [
    "# memorize all paths\n",
    "videos_path = os.path.join(os.getcwd(), 'surgery.videos.hernitia') \n",
    "csv_path = os.path.join(os.getcwd(), 'video.phase.trainingData.clean.StudentVersion.csv')"
   ]
  },
  {
   "cell_type": "code",
   "execution_count": 3,
   "metadata": {},
   "outputs": [],
   "source": [
    "# create dictionary of all phases\n",
    "# we choose not to consider 'access' as it accounts for 0 frame\n",
    "# we merge 'positioning suture' and 'positioning of suture' together\n",
    "phase_dict = {\n",
    "    'adhesiolysis' : 1,\n",
    "    'peritoneal scoring' : 2,\n",
    "    'preperitoneal dissection' : 3,\n",
    "    'reduction of hernia' : 4,\n",
    "    'mesh positioning' : 5,\n",
    "    'mesh placement' : 6,\n",
    "    'positioning suture' : 7,\n",
    "    'direct hernia repair' : 8,\n",
    "    'catheter insertion' : 9,\n",
    "    'peritoneal closure' : 10,\n",
    "    'transitionary idle' : 11,\n",
    "    'stationary idle' : 12,\n",
    "    'out of body' : 13,\n",
    "    'blurry' : 14}"
   ]
  },
  {
   "cell_type": "code",
   "execution_count": 4,
   "metadata": {},
   "outputs": [],
   "source": [
    "misspells = {\n",
    "    'preperitoneal dissection' : ['preperitoneal dissection', 'preperioneal dissection', 'preperitoneal dissection', \n",
    "                                    'prepreitoneal dissection', 'prepetioneal dissection', 'prepertioneal dissection', \n",
    "                                    'perperitoneal dissection'],\n",
    "    'positioning suture' : ['positioning suture', 'positioning of suture', 'acquiring suture', 'suture positioning', \n",
    "                                    'suture positioining', 'positioining suture'],\n",
    "    'catheter insertion' : ['catheter insertion', 'cathter insertion'],\n",
    "    'transitionary idle' : ['transitionary idle', 'transtionary idle', 'transtiionary idle', 'transitioning idle',\n",
    "                                    'transitiionary idle', 'transtitionary idle'],\n",
    "    'direct hernia repair' : ['direct hernia repair', 'primary hernia repair']\n",
    "}\n",
    "\n",
    "def invert_dict(d):\n",
    "    inverted_dict = dict()\n",
    "    for k, v in d.items():\n",
    "        for w in v:\n",
    "            inverted_dict[w] = k\n",
    "    return inverted_dict\n",
    "\n",
    "# format is : correct_ortho[misspell] = correct spelling\n",
    "correct_ortho = invert_dict(misspells)"
   ]
  },
  {
   "cell_type": "code",
   "execution_count": 5,
   "metadata": {},
   "outputs": [],
   "source": [
    "# read csv with dummy data annotation\n",
    "dummy_annotation_df = pd.read_csv(csv_path)\n",
    "\n",
    "# create dataframe with labels for every frame of all videos\n",
    "labels_df = pd.DataFrame(columns = ['videoName', 'frame', 'label'])"
   ]
  },
  {
   "cell_type": "code",
   "execution_count": 6,
   "metadata": {},
   "outputs": [],
   "source": [
    "integers = r'[0-9]'\n",
    "trim_whitespaces = r'^[ \\t]+|[ \\t]+$'\n",
    "\n",
    "def get_label(phaseName):\n",
    "    # remove integers\n",
    "    phaseName = re.sub(integers, '', phaseName)\n",
    "    # remove trim whitespaces (begining or end of string)\n",
    "    phaseName = re.sub(trim_whitespaces, '', phaseName)\n",
    "    # lower everything\n",
    "    phaseName = phaseName.lower()\n",
    "    # get correct spelling\n",
    "    if phaseName in correct_ortho.keys(): phaseName = correct_ortho[phaseName]\n",
    "    label = phase_dict[phaseName]\n",
    "    return label"
   ]
  },
  {
   "cell_type": "code",
   "execution_count": 7,
   "metadata": {},
   "outputs": [],
   "source": [
    "videoNames, frames, labels = [], [], []\n",
    "\n",
    "for index in range(dummy_annotation_df.shape[0]):\n",
    "\n",
    "    # obtain row values\n",
    "    videoName = dummy_annotation_df['videoName'][index]\n",
    "    phaseName = dummy_annotation_df['PhaseName'][index]\n",
    "    start = dummy_annotation_df['Start'][index]\n",
    "    end = dummy_annotation_df['End'][index]\n",
    "\n",
    "    if ':' in start and ':' in end: # verifies if it is indeed a time coded line\n",
    "\n",
    "        # get corresponding label\n",
    "        label = get_label(phaseName)\n",
    "\n",
    "        frame_start = int(start[0:2]) * 60 + int(start[3:5])\n",
    "        frame_end = int(end[0:2]) * 60 + int(end[3:5])\n",
    "        for frame in range(frame_start, frame_end):\n",
    "            videoNames.append(videoName)\n",
    "            frames.append(frame)\n",
    "            labels.append(label)\n",
    "\n",
    "# generate labels dataframe\n",
    "labels_df = pd.DataFrame({'videoName' : videoNames, 'frame' : frames, 'label' : labels})"
   ]
  },
  {
   "cell_type": "code",
   "execution_count": 8,
   "metadata": {},
   "outputs": [
    {
     "data": {
      "image/png": "[encoded data removed]",
      "text/plain": [
       "<Figure size 432x288 with 1 Axes>"
      ]
     },
     "metadata": {
      "needs_background": "light"
     },
     "output_type": "display_data"
    }
   ],
   "source": [
    "# plot histogram of labels\n",
    "labels, counts = np.unique(labels_df['label'], return_counts=True)\n",
    "plt.bar(labels, counts, align='center')\n",
    "plt.gca().set_xticks(labels)\n",
    "plt.title(\"frequency of labels\")\n",
    "plt.xlabel(\"label\")\n",
    "plt.ylabel(\"frequency\")\n",
    "plt.show()"
   ]
  },
  {
   "cell_type": "code",
   "execution_count": 9,
   "metadata": {},
   "outputs": [
    {
     "data": {
      "text/plain": [
       "Text(0.5, 1.0, 'Phases')"
      ]
     },
     "execution_count": 9,
     "metadata": {},
     "output_type": "execute_result"
    },
    {
     "data": {
      "image/png": "[encoded data removed]",
      "text/plain": [
       "<Figure size 432x288 with 1 Axes>"
      ]
     },
     "metadata": {
      "needs_background": "light"
     },
     "output_type": "display_data"
    }
   ],
   "source": [
    "# plot phases\n",
    "plt.scatter(x = labels_df['frame'], y = labels_df['videoName'], c = labels_df['label'], label = labels_df['label'], marker = '|')\n",
    "plt.yticks('')\n",
    "plt.xlabel('time (seconds)')\n",
    "plt.title('Phases')"
   ]
  },
  {
   "cell_type": "code",
   "execution_count": 10,
   "metadata": {},
   "outputs": [],
   "source": [
    "# save labels\n",
    "labels_df.to_pickle('./labels/labels.pkl')"
   ]
  }
 ],
 "metadata": {
  "interpreter": {
   "hash": "31f2aee4e71d21fbe5cf8b01ff0e069b9275f58929596ceb00d14d90e3e16cd6"
  },
  "kernelspec": {
   "display_name": "Python 3.8.10 64-bit",
   "language": "python",
   "name": "python3"
  },
  "language_info": {
   "codemirror_mode": {
    "name": "ipython",
    "version": 3
   },
   "file_extension": ".py",
   "mimetype": "text/x-python",
   "name": "python",
   "nbconvert_exporter": "python",
   "pygments_lexer": "ipython3",
   "version": "3.7.12"
  },
  "orig_nbformat": 4
 },
 "nbformat": 4,
 "nbformat_minor": 2
}
